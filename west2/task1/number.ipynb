{
 "cells": [
  {
   "cell_type": "markdown",
   "metadata": {},
   "source": [
    "# Handwrite Digits Recognition (MNIST)\n",
    "This notebook tends to build up a neutral network which can receive a 28*28 gray handwritten digits pic and output the digit on the pic.\n",
    "Provided a simple classification solution and CNN solution.\n"
   ]
  },
  {
   "cell_type": "markdown",
   "metadata": {},
   "source": [
    "\n",
    "## Environment & Datasets\n",
    "Set up necessary env."
   ]
  },
  {
   "cell_type": "code",
   "execution_count": 11,
   "metadata": {},
   "outputs": [],
   "source": [
    "import torch\n",
    "from ipywidgets import interact\n",
    "import ipywidgets as widgets\n",
    "from torch import nn\n",
    "from torch.utils.data import DataLoader\n",
    "from torchvision import datasets\n",
    "from torchvision.transforms import ToTensor, Lambda\n",
    "from torch.utils.tensorboard import SummaryWriter\n",
    "\n",
    "writer = SummaryWriter()\n",
    "batch_size = 64"
   ]
  },
  {
   "cell_type": "code",
   "execution_count": null,
   "metadata": {},
   "outputs": [],
   "source": [
    "# 创建一个滑块\n",
    "slider = widgets.FloatSlider(\n",
    "    value=0.0,   # 初始值\n",
    "    min=-1.0,    # 最小值\n",
    "    max=1.0,     # 最大值\n",
    "    step=0.1,    # 步长\n",
    "    description='Slider:',  # 描述文本\n",
    "    orientation='horizontal'  # 方向\n",
    ")\n",
    "\n",
    "# 显示滑块\n",
    "display(slider)"
   ]
  },
  {
   "cell_type": "markdown",
   "metadata": {},
   "source": [
    "Set up training and test dataset. Then define dataloader"
   ]
  },
  {
   "cell_type": "code",
   "execution_count": 2,
   "metadata": {},
   "outputs": [
    {
     "name": "stdout",
     "output_type": "stream",
     "text": [
      "Downloading http://yann.lecun.com/exdb/mnist/train-images-idx3-ubyte.gz\n",
      "Downloading http://yann.lecun.com/exdb/mnist/train-images-idx3-ubyte.gz to data\\MNIST\\raw\\train-images-idx3-ubyte.gz\n"
     ]
    },
    {
     "name": "stderr",
     "output_type": "stream",
     "text": [
      "100.0%\n"
     ]
    },
    {
     "name": "stdout",
     "output_type": "stream",
     "text": [
      "Extracting data\\MNIST\\raw\\train-images-idx3-ubyte.gz to data\\MNIST\\raw\n",
      "\n",
      "Downloading http://yann.lecun.com/exdb/mnist/train-labels-idx1-ubyte.gz\n",
      "Downloading http://yann.lecun.com/exdb/mnist/train-labels-idx1-ubyte.gz to data\\MNIST\\raw\\train-labels-idx1-ubyte.gz\n"
     ]
    },
    {
     "name": "stderr",
     "output_type": "stream",
     "text": [
      "100.0%\n"
     ]
    },
    {
     "name": "stdout",
     "output_type": "stream",
     "text": [
      "Extracting data\\MNIST\\raw\\train-labels-idx1-ubyte.gz to data\\MNIST\\raw\n",
      "\n",
      "Downloading http://yann.lecun.com/exdb/mnist/t10k-images-idx3-ubyte.gz\n",
      "Downloading http://yann.lecun.com/exdb/mnist/t10k-images-idx3-ubyte.gz to data\\MNIST\\raw\\t10k-images-idx3-ubyte.gz\n"
     ]
    },
    {
     "name": "stderr",
     "output_type": "stream",
     "text": [
      "100.0%\n"
     ]
    },
    {
     "name": "stdout",
     "output_type": "stream",
     "text": [
      "Extracting data\\MNIST\\raw\\t10k-images-idx3-ubyte.gz to data\\MNIST\\raw\n",
      "\n",
      "Downloading http://yann.lecun.com/exdb/mnist/t10k-labels-idx1-ubyte.gz\n",
      "Downloading http://yann.lecun.com/exdb/mnist/t10k-labels-idx1-ubyte.gz to data\\MNIST\\raw\\t10k-labels-idx1-ubyte.gz\n"
     ]
    },
    {
     "name": "stderr",
     "output_type": "stream",
     "text": [
      "100.0%"
     ]
    },
    {
     "name": "stdout",
     "output_type": "stream",
     "text": [
      "Extracting data\\MNIST\\raw\\t10k-labels-idx1-ubyte.gz to data\\MNIST\\raw\n",
      "\n"
     ]
    },
    {
     "name": "stderr",
     "output_type": "stream",
     "text": [
      "\n"
     ]
    }
   ],
   "source": [
    "trainingData = datasets.MNIST(\n",
    "    root=\"data\",\n",
    "    train=True,\n",
    "    download=True,\n",
    "    transform=ToTensor(),\n",
    ")\n",
    "\n",
    "testData = datasets.MNIST(\n",
    "    root=\"data\",\n",
    "    train=False,\n",
    "    download=True,\n",
    "    transform=ToTensor(),\n",
    ")\n",
    "\n",
    "train_dataloader = DataLoader(trainingData, batch_size=batch_size)\n",
    "test_dataloader = DataLoader(testData, batch_size=batch_size)"
   ]
  },
  {
   "cell_type": "markdown",
   "metadata": {},
   "source": [
    "Load computing device.\n"
   ]
  },
  {
   "cell_type": "code",
   "execution_count": 3,
   "metadata": {},
   "outputs": [
    {
     "name": "stdout",
     "output_type": "stream",
     "text": [
      "Using cuda device\n"
     ]
    }
   ],
   "source": [
    "device = (\n",
    "    \"cuda\"\n",
    "    if torch.cuda.is_available()\n",
    "    else \"mps\"\n",
    "    if torch.backends.mps.is_available()\n",
    "    else \"cpu\"\n",
    ")\n",
    "print(f\"Using {device} device\")"
   ]
  },
  {
   "cell_type": "markdown",
   "metadata": {},
   "source": [
    "## Neutral Network\n",
    "Provided 2 solution.\n",
    "1. Only classification layer.\n",
    "2. CNN"
   ]
  },
  {
   "cell_type": "markdown",
   "metadata": {},
   "source": []
  },
  {
   "cell_type": "code",
   "execution_count": 5,
   "metadata": {},
   "outputs": [
    {
     "name": "stdout",
     "output_type": "stream",
     "text": [
      "NeuralNetwork(\n",
      "  (flatten): Flatten(start_dim=1, end_dim=-1)\n",
      "  (linear_relu_stack): Sequential(\n",
      "    (0): Linear(in_features=784, out_features=512, bias=True)\n",
      "    (1): ReLU()\n",
      "    (2): Linear(in_features=512, out_features=512, bias=True)\n",
      "    (3): ReLU()\n",
      "    (4): Linear(in_features=512, out_features=10, bias=True)\n",
      "  )\n",
      ")\n"
     ]
    }
   ],
   "source": [
    "class NeuralNetwork(nn.Module):\n",
    "    def __init__(self):\n",
    "        super().__init__()\n",
    "        self.flatten = nn.Flatten()\n",
    "        self.linear_relu_stack = nn.Sequential(\n",
    "            nn.Linear(28*28, 512),\n",
    "            nn.ReLU(),\n",
    "            nn.Linear(512, 512),\n",
    "            nn.ReLU(),\n",
    "            nn.Linear(512, 10)\n",
    "        )\n",
    "\n",
    "    def forward(self, x):\n",
    "        x = self.flatten(x)\n",
    "        logits = self.linear_relu_stack(x)\n",
    "        return logits\n",
    "    \n",
    "model = NeuralNetwork().to(device)\n",
    "print(model)"
   ]
  },
  {
   "cell_type": "code",
   "execution_count": null,
   "metadata": {},
   "outputs": [],
   "source": [
    "class CNN(nn.Module):\n",
    "    def __init__(self):\n",
    "        super().__init__()\n",
    "         # 特征提取网络\n",
    "        self.conv1 = nn.Conv2d(1, 16, kernel_size=3)\n",
    "        self.pool1 = nn.MaxPool2d(2) \n",
    "        self.drop1 = nn.Dropout(p=0.15)\n",
    "        self.conv2 = nn.Conv2d(16, 16, kernel_size=2)\n",
    "        self.pool2 = nn.MaxPool2d(2)\n",
    "        self.drop2 = nn.Dropout(p=0.15)\n",
    "        \n",
    "        # 分类网络\n",
    "        self.linear_relu_stack = nn.Sequential(\n",
    "            nn.Linear(576, 512),\n",
    "            nn.ReLU(),\n",
    "            nn.Linear(512, 512),\n",
    "            nn.ReLU(),\n",
    "            nn.Linear(512, 10)\n",
    "        )\n",
    "        self.fc1 = nn.Linear(576, 64)\n",
    "        self.fc2 = nn.Linear(64, 10)\n",
    "    # 前向传播\n",
    "    def forward(self, x):\n",
    "        x = nn.functional.relu(self.conv1(x))\n",
    "        x = self.drop1(self.pool1(x))\n",
    "        x = nn.functional.relu(self.conv2(x))\n",
    "        x = self.drop2(self.pool2(x))\n",
    " \n",
    "        x = torch.flatten(x, start_dim=1)\n",
    "        \n",
    "        logits = self.linear_relu_stack(x)\n",
    "        \n",
    "        # softmax = nn.Softmax(dim=1)(logits)\n",
    "        # return softmax\n",
    "        return logits\n",
    "        x = nn.functional.relu(self.fc1(x))\n",
    "        x = self.fc2(x)\n",
    "       \n",
    "        return x\n",
    "    \n",
    "model = CNN().to(device)\n",
    "print(model)"
   ]
  },
  {
   "cell_type": "markdown",
   "metadata": {},
   "source": [
    "## Train"
   ]
  },
  {
   "cell_type": "code",
   "execution_count": 6,
   "metadata": {},
   "outputs": [],
   "source": [
    "loss_fn = nn.CrossEntropyLoss()\n",
    "optimizer = torch.optim.SGD(model.parameters(), lr=0.5)\n",
    "\n",
    "def train(dataloader, model, loss_fn, optimizer):\n",
    "    size = len(dataloader.dataset)\n",
    "    model.train()\n",
    "    for batch, (X, y) in enumerate(dataloader):\n",
    "        X, y = X.to(device), y.to(device)\n",
    "\n",
    "        # Compute prediction error\n",
    "        pred = model(X)\n",
    "        loss = loss_fn(pred, y)\n",
    "\n",
    "        # Backpropagation\n",
    "        loss.backward()\n",
    "        optimizer.step()\n",
    "        optimizer.zero_grad()\n",
    "\n",
    "        if batch % 100 == 0:\n",
    "            loss, current = loss.item(), (batch + 1) * len(X)\n",
    "            writer.add_scalar(\"Loss/train\", loss, current)\n",
    "            print(f\"loss: {loss:>7f}  [{current:>5d}/{size:>5d}]\")\n",
    "            \n",
    "def test(dataloader, model, loss_fn):\n",
    "    size = len(dataloader.dataset)\n",
    "    num_batches = len(dataloader)\n",
    "    model.eval()\n",
    "    test_loss, correct = 0, 0\n",
    "    with torch.no_grad():\n",
    "        for X, y in dataloader:\n",
    "            X, y = X.to(device), y.to(device)\n",
    "            pred = model(X)\n",
    "            test_loss += loss_fn(pred, y).item()\n",
    "            correct += (pred.argmax(1) == y).type(torch.float).sum().item()\n",
    "    test_loss /= num_batches\n",
    "    correct /= size\n",
    "    \n",
    "    print(f\"Test Error: \\n Accuracy: {(100*correct):>0.1f}%, Avg loss: {test_loss:>8f} \\n\")\n",
    "    "
   ]
  },
  {
   "cell_type": "code",
   "execution_count": 9,
   "metadata": {},
   "outputs": [
    {
     "name": "stdout",
     "output_type": "stream",
     "text": [
      "Epoch 1\n",
      "-------------------------------\n",
      "loss: 0.001432  [   64/60000]\n",
      "loss: 0.000393  [ 6464/60000]\n",
      "loss: 0.077949  [12864/60000]\n",
      "loss: 0.049390  [19264/60000]\n",
      "loss: 0.005559  [25664/60000]\n",
      "loss: 0.003176  [32064/60000]\n",
      "loss: 0.012386  [38464/60000]\n",
      "loss: 0.022230  [44864/60000]\n",
      "loss: 0.077024  [51264/60000]\n",
      "loss: 0.002221  [57664/60000]\n",
      "Test Error: \n",
      " Accuracy: 97.5%, Avg loss: 0.124765 \n",
      "\n",
      "Epoch 2\n",
      "-------------------------------\n",
      "loss: 0.021014  [   64/60000]\n",
      "loss: 0.000202  [ 6464/60000]\n",
      "loss: 0.000580  [12864/60000]\n",
      "loss: 0.001408  [19264/60000]\n",
      "loss: 0.028782  [25664/60000]\n",
      "loss: 0.012704  [32064/60000]\n",
      "loss: 0.000856  [38464/60000]\n",
      "loss: 0.002073  [44864/60000]\n",
      "loss: 0.120290  [51264/60000]\n",
      "loss: 0.000713  [57664/60000]\n",
      "Test Error: \n",
      " Accuracy: 97.6%, Avg loss: 0.121407 \n",
      "\n",
      "Epoch 3\n",
      "-------------------------------\n",
      "loss: 0.001369  [   64/60000]\n",
      "loss: 0.004459  [ 6464/60000]\n",
      "loss: 0.007184  [12864/60000]\n",
      "loss: 0.001189  [19264/60000]\n",
      "loss: 0.000918  [25664/60000]\n",
      "loss: 0.002873  [32064/60000]\n",
      "loss: 0.000810  [38464/60000]\n",
      "loss: 0.000180  [44864/60000]\n",
      "loss: 0.114675  [51264/60000]\n",
      "loss: 0.007416  [57664/60000]\n",
      "Test Error: \n",
      " Accuracy: 98.0%, Avg loss: 0.111080 \n",
      "\n",
      "Epoch 4\n",
      "-------------------------------\n",
      "loss: 0.001473  [   64/60000]\n",
      "loss: 0.000078  [ 6464/60000]\n",
      "loss: 0.004432  [12864/60000]\n",
      "loss: 0.009561  [19264/60000]\n",
      "loss: 0.000046  [25664/60000]\n",
      "loss: 0.000483  [32064/60000]\n",
      "loss: 0.260679  [38464/60000]\n",
      "loss: 0.012965  [44864/60000]\n",
      "loss: 0.001897  [51264/60000]\n",
      "loss: 0.000995  [57664/60000]\n",
      "Test Error: \n",
      " Accuracy: 97.8%, Avg loss: 0.122193 \n",
      "\n",
      "Epoch 5\n",
      "-------------------------------\n",
      "loss: 0.000124  [   64/60000]\n",
      "loss: 0.000615  [ 6464/60000]\n",
      "loss: 0.046967  [12864/60000]\n",
      "loss: 0.000156  [19264/60000]\n",
      "loss: 0.001153  [25664/60000]\n",
      "loss: 0.023499  [32064/60000]\n",
      "loss: 0.000039  [38464/60000]\n",
      "loss: 0.011784  [44864/60000]\n",
      "loss: 0.000143  [51264/60000]\n",
      "loss: 0.024690  [57664/60000]\n",
      "Test Error: \n",
      " Accuracy: 97.9%, Avg loss: 0.119192 \n",
      "\n",
      "Epoch 6\n",
      "-------------------------------\n",
      "loss: 0.005547  [   64/60000]\n",
      "loss: 0.000221  [ 6464/60000]\n",
      "loss: 0.040147  [12864/60000]\n",
      "loss: 0.000906  [19264/60000]\n",
      "loss: 0.000013  [25664/60000]\n",
      "loss: 0.001539  [32064/60000]\n",
      "loss: 0.004784  [38464/60000]\n",
      "loss: 0.000470  [44864/60000]\n",
      "loss: 0.001376  [51264/60000]\n",
      "loss: 0.000126  [57664/60000]\n",
      "Test Error: \n",
      " Accuracy: 98.0%, Avg loss: 0.121471 \n",
      "\n",
      "Epoch 7\n",
      "-------------------------------\n",
      "loss: 0.000519  [   64/60000]\n",
      "loss: 0.009071  [ 6464/60000]\n",
      "loss: 0.005701  [12864/60000]\n",
      "loss: 0.004080  [19264/60000]\n",
      "loss: 0.000252  [25664/60000]\n",
      "loss: 0.000438  [32064/60000]\n",
      "loss: 0.000139  [38464/60000]\n",
      "loss: 0.000710  [44864/60000]\n",
      "loss: 0.012270  [51264/60000]\n",
      "loss: 0.000594  [57664/60000]\n",
      "Test Error: \n",
      " Accuracy: 98.1%, Avg loss: 0.113960 \n",
      "\n",
      "Epoch 8\n",
      "-------------------------------\n",
      "loss: 0.001623  [   64/60000]\n",
      "loss: 0.000505  [ 6464/60000]\n",
      "loss: 0.001194  [12864/60000]\n",
      "loss: 0.000665  [19264/60000]\n",
      "loss: 0.004404  [25664/60000]\n",
      "loss: 0.000128  [32064/60000]\n",
      "loss: 0.000605  [38464/60000]\n",
      "loss: 0.000205  [44864/60000]\n",
      "loss: 0.000196  [51264/60000]\n",
      "loss: 0.000409  [57664/60000]\n",
      "Test Error: \n",
      " Accuracy: 97.7%, Avg loss: 0.140582 \n",
      "\n",
      "Epoch 9\n",
      "-------------------------------\n",
      "loss: 0.030894  [   64/60000]\n",
      "loss: 0.000553  [ 6464/60000]\n",
      "loss: 0.003537  [12864/60000]\n",
      "loss: 0.002532  [19264/60000]\n",
      "loss: 0.000060  [25664/60000]\n",
      "loss: 0.000092  [32064/60000]\n",
      "loss: 0.006336  [38464/60000]\n",
      "loss: 0.000158  [44864/60000]\n",
      "loss: 0.006005  [51264/60000]\n",
      "loss: 0.013652  [57664/60000]\n",
      "Test Error: \n",
      " Accuracy: 97.6%, Avg loss: 0.141408 \n",
      "\n",
      "Epoch 10\n",
      "-------------------------------\n",
      "loss: 0.001136  [   64/60000]\n",
      "loss: 0.000156  [ 6464/60000]\n",
      "loss: 0.005921  [12864/60000]\n",
      "loss: 0.003784  [19264/60000]\n",
      "loss: 0.000478  [25664/60000]\n",
      "loss: 0.000150  [32064/60000]\n",
      "loss: 0.000061  [38464/60000]\n",
      "loss: 0.000096  [44864/60000]\n",
      "loss: 0.000451  [51264/60000]\n",
      "loss: 0.000166  [57664/60000]\n",
      "Test Error: \n",
      " Accuracy: 98.0%, Avg loss: 0.118090 \n",
      "\n",
      "Done!\n"
     ]
    }
   ],
   "source": [
    "epochs = 10\n",
    "for t in range(epochs):\n",
    "    print(f\"Epoch {t+1}\\n-------------------------------\")\n",
    "    train(train_dataloader, model, loss_fn, optimizer)\n",
    "    test(test_dataloader, model, loss_fn)\n",
    "print(\"Done!\")"
   ]
  }
 ],
 "metadata": {
  "kernelspec": {
   "display_name": "pytorch",
   "language": "python",
   "name": "python3"
  },
  "language_info": {
   "codemirror_mode": {
    "name": "ipython",
    "version": 3
   },
   "file_extension": ".py",
   "mimetype": "text/x-python",
   "name": "python",
   "nbconvert_exporter": "python",
   "pygments_lexer": "ipython3",
   "version": "3.11.4"
  },
  "orig_nbformat": 4
 },
 "nbformat": 4,
 "nbformat_minor": 2
}
